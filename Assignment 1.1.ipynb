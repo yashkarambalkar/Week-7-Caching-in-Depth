{
 "cells": [
  {
   "cell_type": "code",
   "execution_count": 1,
   "id": "c1199ee6",
   "metadata": {},
   "outputs": [],
   "source": [
    "from pyspark.sql import SparkSession\n",
    "import getpass\n",
    "username = getpass.getuser()\n",
    "spark = SparkSession. \\\n",
    "builder. \\\n",
    "config('spark.ui.port','0'). \\\n",
    "config('spark.sql.warehouse.dir',f'/user/{username}/warehouse'). \\\n",
    "enableHiveSupport(). \\\n",
    "master('yarn'). \\\n",
    "getOrCreate()"
   ]
  },
  {
   "cell_type": "code",
   "execution_count": 2,
   "id": "dc182271",
   "metadata": {},
   "outputs": [
    {
     "data": {
      "text/html": [
       "<table border='1'>\n",
       "<tr><th></th></tr>\n",
       "</table>\n"
      ],
      "text/plain": [
       "++\n",
       "||\n",
       "++\n",
       "++"
      ]
     },
     "execution_count": 2,
     "metadata": {},
     "output_type": "execute_result"
    }
   ],
   "source": [
    "spark.sql(\"create database itv013010_assignment\")"
   ]
  },
  {
   "cell_type": "code",
   "execution_count": 3,
   "id": "741699a4",
   "metadata": {},
   "outputs": [
    {
     "data": {
      "text/html": [
       "<table border='1'>\n",
       "<tr><th></th></tr>\n",
       "</table>\n"
      ],
      "text/plain": [
       "++\n",
       "||\n",
       "++\n",
       "++"
      ]
     },
     "execution_count": 3,
     "metadata": {},
     "output_type": "execute_result"
    }
   ],
   "source": [
    "spark.sql(\"create table itv013010_assignment.assignment1(cust_id long, purchase_date date, product_id long, amount double) using csv location '/public/trendytech/datasets/cust_transf.csv'\")"
   ]
  },
  {
   "cell_type": "code",
   "execution_count": 2,
   "id": "7c64fb10",
   "metadata": {},
   "outputs": [
    {
     "name": "stdout",
     "output_type": "stream",
     "text": [
      "+-------+-------------+----------+------+\n",
      "|cust_id|purchase_date|product_id|amount|\n",
      "+-------+-------------+----------+------+\n",
      "|   1001|   2023-05-15|      1001| 49.99|\n",
      "|   1002|   2023-05-16|      1002| 29.99|\n",
      "|   1003|   2023-05-17|      1003| 39.99|\n",
      "|   1004|   2023-05-18|      1004| 19.99|\n",
      "|   1005|   2023-05-19|      1005| 24.99|\n",
      "|   1001|   2023-05-20|      1002| 29.99|\n",
      "|   1002|   2023-05-21|      1003| 39.99|\n",
      "|   1003|   2023-05-22|      1004| 19.99|\n",
      "|   1004|   2023-05-23|      1005| 24.99|\n",
      "|   1005|   2023-05-24|      1001| 49.99|\n",
      "|   1001|   2023-05-25|      1003| 39.99|\n",
      "|   1002|   2023-05-26|      1004| 19.99|\n",
      "|   1003|   2023-05-27|      1005| 24.99|\n",
      "|   1004|   2023-05-28|      1001| 49.99|\n",
      "|   1005|   2023-05-29|      1002| 29.99|\n",
      "|   1001|   2023-05-30|      1003| 39.99|\n",
      "|   1002|   2023-05-31|      1004| 19.99|\n",
      "|   1003|   2023-06-01|      1005| 24.99|\n",
      "|   1004|   2023-06-02|      1001| 49.99|\n",
      "|   1005|   2023-06-03|      1002| 29.99|\n",
      "+-------+-------------+----------+------+\n",
      "only showing top 20 rows\n",
      "\n"
     ]
    }
   ],
   "source": [
    "spark.sql(\"select * from itv013010_assignment.assignment1\").show()"
   ]
  },
  {
   "cell_type": "markdown",
   "id": "7e2d9c01",
   "metadata": {},
   "source": [
    "### Find top 10 Products sold"
   ]
  },
  {
   "cell_type": "code",
   "execution_count": 4,
   "id": "d0ed466d",
   "metadata": {},
   "outputs": [
    {
     "name": "stdout",
     "output_type": "stream",
     "text": [
      "+----------+--------------------+\n",
      "|product_id|       total_revenue|\n",
      "+----------+--------------------+\n",
      "|      1003| 5.725592243903785E8|\n",
      "|      1001|  5.56682641192824E8|\n",
      "|      1002| 4.293836243948648E8|\n",
      "|      1004|  2.86208024402762E8|\n",
      "|      1005|2.7828564120213836E8|\n",
      "|      1015|  12537.909999999963|\n",
      "|      1014|  11492.909999999963|\n",
      "|      1013|  10447.909999999963|\n",
      "|      1012|   9402.909999999965|\n",
      "|      1011|   8357.909999999967|\n",
      "+----------+--------------------+\n",
      "\n"
     ]
    }
   ],
   "source": [
    "spark.sql(\"select product_id, SUM(amount) as total_revenue from itv013010_assignment.assignment1 where purchase_date>='2023-05-01' AND purchase_date <= '2023-06-08'group by product_id Order by total_revenue DESC limit 10\").show()"
   ]
  },
  {
   "cell_type": "markdown",
   "id": "726fd326",
   "metadata": {},
   "source": [
    "### Find top 10 customers"
   ]
  },
  {
   "cell_type": "code",
   "execution_count": 5,
   "id": "3e4e9370",
   "metadata": {},
   "outputs": [
    {
     "name": "stdout",
     "output_type": "stream",
     "text": [
      "+-------+--------------------+\n",
      "|cust_id|        cust_revenue|\n",
      "+-------+--------------------+\n",
      "|   1001| 3.180884580005336E8|\n",
      "|   1004| 3.101342580008687E8|\n",
      "|   1005|2.6240905800151232E8|\n",
      "|   1003|2.1468385800145328E8|\n",
      "|   1002| 2.067296580014408E8|\n",
      "|   1011|1.2724374111049211E8|\n",
      "|   1006|1.2723851611049213E8|\n",
      "|   1012|1.1133638611046083E8|\n",
      "|   1007|1.1133116111046083E8|\n",
      "|   1013| 9.542903111041905E7|\n",
      "+-------+--------------------+\n",
      "\n"
     ]
    }
   ],
   "source": [
    "spark.sql(\"select cust_id, SUM(amount) as cust_revenue from itv013010_assignment.assignment1 where purchase_date>='2023-05-01' AND purchase_date <= '2023-06-08' group by cust_id ORDER BY cust_revenue desc limit 10\").show()"
   ]
  },
  {
   "cell_type": "markdown",
   "id": "f5bde523",
   "metadata": {},
   "source": [
    "# Same above queries but after cache"
   ]
  },
  {
   "cell_type": "code",
   "execution_count": 6,
   "id": "6330be83",
   "metadata": {},
   "outputs": [
    {
     "data": {
      "text/html": [
       "<table border='1'>\n",
       "<tr><th></th></tr>\n",
       "</table>\n"
      ],
      "text/plain": [
       "++\n",
       "||\n",
       "++\n",
       "++"
      ]
     },
     "execution_count": 6,
     "metadata": {},
     "output_type": "execute_result"
    }
   ],
   "source": [
    "spark.sql(\"cache table itv013010_assignment.assignment1\")"
   ]
  },
  {
   "cell_type": "code",
   "execution_count": 8,
   "id": "f26024ef",
   "metadata": {},
   "outputs": [
    {
     "name": "stdout",
     "output_type": "stream",
     "text": [
      "+----------+--------------------+\n",
      "|product_id|       total_revenue|\n",
      "+----------+--------------------+\n",
      "|      1003| 5.725592243903785E8|\n",
      "|      1001| 5.566826411928239E8|\n",
      "|      1002|4.2938362439486486E8|\n",
      "|      1004|2.8620802440276194E8|\n",
      "|      1005| 2.782856412021384E8|\n",
      "|      1015|  12537.909999999963|\n",
      "|      1014|  11492.909999999963|\n",
      "|      1013|  10447.909999999963|\n",
      "|      1012|   9402.909999999965|\n",
      "|      1011|   8357.909999999967|\n",
      "+----------+--------------------+\n",
      "\n"
     ]
    }
   ],
   "source": [
    "spark.sql(\"select product_id, SUM(amount) as total_revenue from itv013010_assignment.assignment1 where purchase_date>='2023-05-01' AND purchase_date <= '2023-06-08'group by product_id Order by total_revenue DESC limit 10\").show()"
   ]
  },
  {
   "cell_type": "code",
   "execution_count": 10,
   "id": "00b26c40",
   "metadata": {},
   "outputs": [
    {
     "name": "stdout",
     "output_type": "stream",
     "text": [
      "+-------+--------------------+\n",
      "|cust_id|        cust_revenue|\n",
      "+-------+--------------------+\n",
      "|   1001| 3.180884580005336E8|\n",
      "|   1004| 3.101342580008686E8|\n",
      "|   1005| 2.624090580015123E8|\n",
      "|   1003|2.1468385800145328E8|\n",
      "|   1002|2.0672965800144076E8|\n",
      "|   1011|1.2724374111049211E8|\n",
      "|   1006|1.2723851611049213E8|\n",
      "|   1012| 1.113363861104608E8|\n",
      "|   1007|1.1133116111046083E8|\n",
      "|   1013| 9.542903111041903E7|\n",
      "+-------+--------------------+\n",
      "\n"
     ]
    }
   ],
   "source": [
    "spark.sql(\"select cust_id, SUM(amount) as cust_revenue from itv013010_assignment.assignment1 where purchase_date>='2023-05-01' AND purchase_date <= '2023-06-08' group by cust_id ORDER BY cust_revenue desc limit 10\").show()"
   ]
  },
  {
   "cell_type": "code",
   "execution_count": null,
   "id": "64cf39af",
   "metadata": {},
   "outputs": [],
   "source": []
  }
 ],
 "metadata": {
  "kernelspec": {
   "display_name": "Pyspark 2",
   "language": "python",
   "name": "pyspark2"
  },
  "language_info": {
   "codemirror_mode": {
    "name": "ipython",
    "version": 3
   },
   "file_extension": ".py",
   "mimetype": "text/x-python",
   "name": "python",
   "nbconvert_exporter": "python",
   "pygments_lexer": "ipython3",
   "version": "3.6.12"
  }
 },
 "nbformat": 4,
 "nbformat_minor": 5
}
