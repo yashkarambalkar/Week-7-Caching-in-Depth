{
 "cells": [
  {
   "cell_type": "code",
   "execution_count": 1,
   "id": "15d1d10a",
   "metadata": {},
   "outputs": [],
   "source": [
    "from pyspark.sql import SparkSession\n",
    "import getpass\n",
    "username = getpass.getuser()\n",
    "spark = SparkSession. \\\n",
    "builder. \\\n",
    "config('spark.ui.port','0'). \\\n",
    "config('spark.sql.warehouse.dir',f'/user/{username}/warehouse'). \\\n",
    "enableHiveSupport(). \\\n",
    "master('yarn'). \\\n",
    "getOrCreate()"
   ]
  },
  {
   "cell_type": "code",
   "execution_count": 2,
   "id": "02cf8efe",
   "metadata": {},
   "outputs": [],
   "source": [
    "orders_schema = 'order_id long, order_date date, customer_id long, order_status string'"
   ]
  },
  {
   "cell_type": "code",
   "execution_count": 3,
   "id": "a2deced6",
   "metadata": {},
   "outputs": [],
   "source": [
    "orders_df = spark.read. \\\n",
    "format('csv'). \\\n",
    "schema(orders_schema). \\\n",
    "load('/public/trendytech/orders/orders_1gb.csv')"
   ]
  },
  {
   "cell_type": "code",
   "execution_count": null,
   "id": "5be9d41a",
   "metadata": {},
   "outputs": [],
   "source": [
    "spark.sql(\"create database itv013010_cachingdemo_db\")"
   ]
  },
  {
   "cell_type": "markdown",
   "id": "fe0cad3f",
   "metadata": {},
   "source": [
    "### How to Write df into spark table."
   ]
  },
  {
   "cell_type": "code",
   "execution_count": null,
   "id": "18781428",
   "metadata": {},
   "outputs": [],
   "source": [
    "orders_df.write.format(\"csv\").saveAsTable(\"itv013010_cachingdemo_db.itv013010_orders1\")"
   ]
  },
  {
   "cell_type": "code",
   "execution_count": 13,
   "id": "fd9c6b81",
   "metadata": {},
   "outputs": [
    {
     "name": "stdout",
     "output_type": "stream",
     "text": [
      "Found 10 items\n",
      "-rw-r--r--   3 itv013010 supergroup          0 2024-07-14 13:46 /user/itv013010/warehouse/itv013010_cachingdemo_db.db/itv013010_orders1/_SUCCESS\n",
      "-rw-r--r--   3 itv013010 supergroup  100316856 2024-07-14 13:46 /user/itv013010/warehouse/itv013010_cachingdemo_db.db/itv013010_orders1/part-00000-8101ec11-bb45-4666-a9c8-01b563ea6baf-c000.csv\n",
      "-rw-r--r--   3 itv013010 supergroup  100316948 2024-07-14 13:46 /user/itv013010/warehouse/itv013010_cachingdemo_db.db/itv013010_orders1/part-00001-8101ec11-bb45-4666-a9c8-01b563ea6baf-c000.csv\n",
      "-rw-r--r--   3 itv013010 supergroup  100316813 2024-07-14 13:46 /user/itv013010/warehouse/itv013010_cachingdemo_db.db/itv013010_orders1/part-00002-8101ec11-bb45-4666-a9c8-01b563ea6baf-c000.csv\n",
      "-rw-r--r--   3 itv013010 supergroup  100319652 2024-07-14 13:46 /user/itv013010/warehouse/itv013010_cachingdemo_db.db/itv013010_orders1/part-00003-8101ec11-bb45-4666-a9c8-01b563ea6baf-c000.csv\n",
      "-rw-r--r--   3 itv013010 supergroup  100316854 2024-07-14 13:46 /user/itv013010/warehouse/itv013010_cachingdemo_db.db/itv013010_orders1/part-00004-8101ec11-bb45-4666-a9c8-01b563ea6baf-c000.csv\n",
      "-rw-r--r--   3 itv013010 supergroup  100316945 2024-07-14 13:46 /user/itv013010/warehouse/itv013010_cachingdemo_db.db/itv013010_orders1/part-00005-8101ec11-bb45-4666-a9c8-01b563ea6baf-c000.csv\n",
      "-rw-r--r--   3 itv013010 supergroup  100316734 2024-07-14 13:46 /user/itv013010/warehouse/itv013010_cachingdemo_db.db/itv013010_orders1/part-00006-8101ec11-bb45-4666-a9c8-01b563ea6baf-c000.csv\n",
      "-rw-r--r--   3 itv013010 supergroup  100319704 2024-07-14 13:46 /user/itv013010/warehouse/itv013010_cachingdemo_db.db/itv013010_orders1/part-00007-8101ec11-bb45-4666-a9c8-01b563ea6baf-c000.csv\n",
      "-rw-r--r--   3 itv013010 supergroup   38296119 2024-07-14 13:45 /user/itv013010/warehouse/itv013010_cachingdemo_db.db/itv013010_orders1/part-00008-8101ec11-bb45-4666-a9c8-01b563ea6baf-c000.csv\n"
     ]
    }
   ],
   "source": [
    "!hadoop fs -ls /user/itv013010/warehouse/itv013010_cachingdemo_db.db/itv013010_orders1"
   ]
  },
  {
   "cell_type": "code",
   "execution_count": 5,
   "id": "ec383c8e",
   "metadata": {},
   "outputs": [
    {
     "name": "stdout",
     "output_type": "stream",
     "text": [
      "+--------------------+--------------------+-------+\n",
      "|            col_name|           data_type|comment|\n",
      "+--------------------+--------------------+-------+\n",
      "|            order_id|              bigint|   null|\n",
      "|          order_date|                date|   null|\n",
      "|         customer_id|              bigint|   null|\n",
      "|        order_status|              string|   null|\n",
      "|                    |                    |       |\n",
      "|# Detailed Table ...|                    |       |\n",
      "|            Database|itv013010_caching...|       |\n",
      "|               Table|   itv013010_orders1|       |\n",
      "|               Owner|           itv013010|       |\n",
      "|        Created Time|Sun Jul 14 13:46:...|       |\n",
      "|         Last Access|Wed Dec 31 19:00:...|       |\n",
      "|          Created By|         Spark 2.4.7|       |\n",
      "|                Type|             MANAGED|       |\n",
      "|            Provider|                 csv|       |\n",
      "|    Table Properties|[transient_lastDd...|       |\n",
      "|          Statistics|     840836656 bytes|       |\n",
      "|            Location|hdfs://m01.itvers...|       |\n",
      "|       Serde Library|org.apache.hadoop...|       |\n",
      "|         InputFormat|org.apache.hadoop...|       |\n",
      "|        OutputFormat|org.apache.hadoop...|       |\n",
      "+--------------------+--------------------+-------+\n",
      "only showing top 20 rows\n",
      "\n"
     ]
    }
   ],
   "source": [
    "spark.sql(\"describe extended itv013010_cachingdemo_db.itv013010_orders1 \").show()"
   ]
  },
  {
   "cell_type": "code",
   "execution_count": 6,
   "id": "8c562830",
   "metadata": {},
   "outputs": [
    {
     "name": "stdout",
     "output_type": "stream",
     "text": [
      "+--------+\n",
      "|count(1)|\n",
      "+--------+\n",
      "|25831126|\n",
      "+--------+\n",
      "\n"
     ]
    }
   ],
   "source": [
    "spark.sql(\"select count(*) from itv013010_cachingdemo_db.itv013010_orders1\").show()"
   ]
  },
  {
   "cell_type": "markdown",
   "id": "3d3601e6",
   "metadata": {},
   "source": [
    "## Caching Table in Spark is NOT LAZY.\n",
    "### [Add lazy keyword to make it LAZY]"
   ]
  },
  {
   "cell_type": "code",
   "execution_count": 7,
   "id": "1fc575a6",
   "metadata": {},
   "outputs": [
    {
     "data": {
      "text/html": [
       "<table border='1'>\n",
       "<tr><th></th></tr>\n",
       "</table>\n"
      ],
      "text/plain": [
       "++\n",
       "||\n",
       "++\n",
       "++"
      ]
     },
     "execution_count": 7,
     "metadata": {},
     "output_type": "execute_result"
    }
   ],
   "source": [
    "spark.sql(\"cache table itv013010_cachingdemo_db.itv013010_orders1\")"
   ]
  },
  {
   "cell_type": "code",
   "execution_count": 8,
   "id": "45cf0ba7",
   "metadata": {},
   "outputs": [
    {
     "name": "stdout",
     "output_type": "stream",
     "text": [
      "+--------+\n",
      "|count(1)|\n",
      "+--------+\n",
      "|25831126|\n",
      "+--------+\n",
      "\n"
     ]
    }
   ],
   "source": [
    "spark.sql(\"select count(*) from itv013010_cachingdemo_db.itv013010_orders1\").show()"
   ]
  },
  {
   "cell_type": "code",
   "execution_count": 9,
   "id": "bf924df3",
   "metadata": {},
   "outputs": [
    {
     "name": "stdout",
     "output_type": "stream",
     "text": [
      "+---------------+\n",
      "|   order_status|\n",
      "+---------------+\n",
      "|PENDING_PAYMENT|\n",
      "|       COMPLETE|\n",
      "|        ON_HOLD|\n",
      "| PAYMENT_REVIEW|\n",
      "|         BOOKED|\n",
      "|     PROCESSING|\n",
      "|         CLOSED|\n",
      "|SUSPECTED_FRAUD|\n",
      "|        PENDING|\n",
      "|       CANCELED|\n",
      "+---------------+\n",
      "\n"
     ]
    }
   ],
   "source": [
    "spark.sql(\"select distinct(order_status) from itv013010_cachingdemo_db.itv013010_orders1\").show()"
   ]
  },
  {
   "cell_type": "code",
   "execution_count": 10,
   "id": "ac45bcfb",
   "metadata": {},
   "outputs": [
    {
     "name": "stdout",
     "output_type": "stream",
     "text": [
      "+----------------------------+\n",
      "|count(DISTINCT order_status)|\n",
      "+----------------------------+\n",
      "|                          10|\n",
      "+----------------------------+\n",
      "\n"
     ]
    }
   ],
   "source": [
    "spark.sql(\"select count(distinct(order_status)) from itv013010_cachingdemo_db.itv013010_orders1\").show()"
   ]
  },
  {
   "cell_type": "markdown",
   "id": "a1b5522b",
   "metadata": {},
   "source": [
    "## Now how to Uncache?"
   ]
  },
  {
   "cell_type": "code",
   "execution_count": 11,
   "id": "428767e4",
   "metadata": {},
   "outputs": [
    {
     "data": {
      "text/html": [
       "<table border='1'>\n",
       "<tr><th></th></tr>\n",
       "</table>\n"
      ],
      "text/plain": [
       "++\n",
       "||\n",
       "++\n",
       "++"
      ]
     },
     "execution_count": 11,
     "metadata": {},
     "output_type": "execute_result"
    }
   ],
   "source": [
    "spark.sql(\"uncache table itv013010_cachingdemo_db.itv013010_orders1\")"
   ]
  },
  {
   "cell_type": "markdown",
   "id": "5215ecc4",
   "metadata": {},
   "source": [
    "## How to make cache LAZY in spark.sql"
   ]
  },
  {
   "cell_type": "code",
   "execution_count": 12,
   "id": "31a4808a",
   "metadata": {},
   "outputs": [
    {
     "data": {
      "text/html": [
       "<table border='1'>\n",
       "<tr><th></th></tr>\n",
       "</table>\n"
      ],
      "text/plain": [
       "++\n",
       "||\n",
       "++\n",
       "++"
      ]
     },
     "execution_count": 12,
     "metadata": {},
     "output_type": "execute_result"
    }
   ],
   "source": [
    "spark.sql(\"cache lazy table itv013010_cachingdemo_db.itv013010_orders1\")"
   ]
  },
  {
   "cell_type": "code",
   "execution_count": 13,
   "id": "f00a538f",
   "metadata": {},
   "outputs": [
    {
     "data": {
      "text/html": [
       "<table border='1'>\n",
       "<tr><th>count(1)</th></tr>\n",
       "<tr><td>25831126</td></tr>\n",
       "</table>\n"
      ],
      "text/plain": [
       "+--------+\n",
       "|count(1)|\n",
       "+--------+\n",
       "|25831126|\n",
       "+--------+"
      ]
     },
     "execution_count": 13,
     "metadata": {},
     "output_type": "execute_result"
    }
   ],
   "source": [
    "spark.sql(\"select count(*) from itv013010_cachingdemo_db.itv013010_orders1\")"
   ]
  },
  {
   "cell_type": "markdown",
   "id": "525df549",
   "metadata": {},
   "source": [
    "## How to see the no of Paritions of our table on storage[hadoop]?"
   ]
  },
  {
   "cell_type": "code",
   "execution_count": 14,
   "id": "179e5e40",
   "metadata": {},
   "outputs": [
    {
     "name": "stdout",
     "output_type": "stream",
     "text": [
      "0       0        /user/itv013010/warehouse/itv013010_cachingdemo_db.db/itv013010_orders1/_SUCCESS\n",
      "31      93       /user/itv013010/warehouse/itv013010_cachingdemo_db.db/itv013010_orders1/part-00000-6aace557-58ad-4a8d-a23c-8cccbd8b5d9c-c000.csv\n",
      "95.7 M  287.0 M  /user/itv013010/warehouse/itv013010_cachingdemo_db.db/itv013010_orders1/part-00000-8101ec11-bb45-4666-a9c8-01b563ea6baf-c000.csv\n",
      "95.7 M  287.0 M  /user/itv013010/warehouse/itv013010_cachingdemo_db.db/itv013010_orders1/part-00001-8101ec11-bb45-4666-a9c8-01b563ea6baf-c000.csv\n",
      "95.7 M  287.0 M  /user/itv013010/warehouse/itv013010_cachingdemo_db.db/itv013010_orders1/part-00002-8101ec11-bb45-4666-a9c8-01b563ea6baf-c000.csv\n",
      "95.7 M  287.0 M  /user/itv013010/warehouse/itv013010_cachingdemo_db.db/itv013010_orders1/part-00003-8101ec11-bb45-4666-a9c8-01b563ea6baf-c000.csv\n",
      "95.7 M  287.0 M  /user/itv013010/warehouse/itv013010_cachingdemo_db.db/itv013010_orders1/part-00004-8101ec11-bb45-4666-a9c8-01b563ea6baf-c000.csv\n",
      "95.7 M  287.0 M  /user/itv013010/warehouse/itv013010_cachingdemo_db.db/itv013010_orders1/part-00005-8101ec11-bb45-4666-a9c8-01b563ea6baf-c000.csv\n",
      "95.7 M  287.0 M  /user/itv013010/warehouse/itv013010_cachingdemo_db.db/itv013010_orders1/part-00006-8101ec11-bb45-4666-a9c8-01b563ea6baf-c000.csv\n",
      "95.7 M  287.0 M  /user/itv013010/warehouse/itv013010_cachingdemo_db.db/itv013010_orders1/part-00007-8101ec11-bb45-4666-a9c8-01b563ea6baf-c000.csv\n",
      "36.5 M  109.6 M  /user/itv013010/warehouse/itv013010_cachingdemo_db.db/itv013010_orders1/part-00008-8101ec11-bb45-4666-a9c8-01b563ea6baf-c000.csv\n"
     ]
    }
   ],
   "source": [
    "!hadoop fs -du -h /user/itv013010/warehouse/itv013010_cachingdemo_db.db/itv013010_orders1"
   ]
  },
  {
   "cell_type": "code",
   "execution_count": 15,
   "id": "fb8f1386",
   "metadata": {},
   "outputs": [
    {
     "name": "stdout",
     "output_type": "stream",
     "text": [
      "+---------------+--------+\n",
      "|   order_status|count(1)|\n",
      "+---------------+--------+\n",
      "|PENDING_PAYMENT| 5636250|\n",
      "|       COMPLETE| 8587125|\n",
      "|        ON_HOLD| 1424250|\n",
      "| PAYMENT_REVIEW|  273375|\n",
      "|         BOOKED|       1|\n",
      "|     PROCESSING| 3103125|\n",
      "|         CLOSED| 2833500|\n",
      "|SUSPECTED_FRAUD|  584250|\n",
      "|        PENDING| 2853750|\n",
      "|       CANCELED|  535500|\n",
      "+---------------+--------+\n",
      "\n"
     ]
    }
   ],
   "source": [
    "spark.sql(\"select order_status, count(*) from itv013010_cachingdemo_db.itv013010_orders1 group by order_status\").show()"
   ]
  },
  {
   "cell_type": "code",
   "execution_count": 16,
   "id": "4513016b",
   "metadata": {},
   "outputs": [
    {
     "data": {
      "text/html": [
       "<table border='1'>\n",
       "<tr><th></th></tr>\n",
       "</table>\n"
      ],
      "text/plain": [
       "++\n",
       "||\n",
       "++\n",
       "++"
      ]
     },
     "execution_count": 16,
     "metadata": {},
     "output_type": "execute_result"
    }
   ],
   "source": [
    "spark.sql(\"insert into itv013010_cachingdemo_db.itv013010_orders1 values(11111, '2023-05-29', 102455, 'BOOKED')\")"
   ]
  },
  {
   "cell_type": "code",
   "execution_count": 17,
   "id": "9db2881b",
   "metadata": {},
   "outputs": [
    {
     "name": "stdout",
     "output_type": "stream",
     "text": [
      "0       0        /user/itv013010/warehouse/itv013010_cachingdemo_db.db/itv013010_orders1/_SUCCESS\n",
      "31      93       /user/itv013010/warehouse/itv013010_cachingdemo_db.db/itv013010_orders1/part-00000-2bd4f886-6c9f-4705-8845-6ef86fc12f4c-c000.csv\n",
      "31      93       /user/itv013010/warehouse/itv013010_cachingdemo_db.db/itv013010_orders1/part-00000-6aace557-58ad-4a8d-a23c-8cccbd8b5d9c-c000.csv\n",
      "95.7 M  287.0 M  /user/itv013010/warehouse/itv013010_cachingdemo_db.db/itv013010_orders1/part-00000-8101ec11-bb45-4666-a9c8-01b563ea6baf-c000.csv\n",
      "95.7 M  287.0 M  /user/itv013010/warehouse/itv013010_cachingdemo_db.db/itv013010_orders1/part-00001-8101ec11-bb45-4666-a9c8-01b563ea6baf-c000.csv\n",
      "95.7 M  287.0 M  /user/itv013010/warehouse/itv013010_cachingdemo_db.db/itv013010_orders1/part-00002-8101ec11-bb45-4666-a9c8-01b563ea6baf-c000.csv\n",
      "95.7 M  287.0 M  /user/itv013010/warehouse/itv013010_cachingdemo_db.db/itv013010_orders1/part-00003-8101ec11-bb45-4666-a9c8-01b563ea6baf-c000.csv\n",
      "95.7 M  287.0 M  /user/itv013010/warehouse/itv013010_cachingdemo_db.db/itv013010_orders1/part-00004-8101ec11-bb45-4666-a9c8-01b563ea6baf-c000.csv\n",
      "95.7 M  287.0 M  /user/itv013010/warehouse/itv013010_cachingdemo_db.db/itv013010_orders1/part-00005-8101ec11-bb45-4666-a9c8-01b563ea6baf-c000.csv\n",
      "95.7 M  287.0 M  /user/itv013010/warehouse/itv013010_cachingdemo_db.db/itv013010_orders1/part-00006-8101ec11-bb45-4666-a9c8-01b563ea6baf-c000.csv\n",
      "95.7 M  287.0 M  /user/itv013010/warehouse/itv013010_cachingdemo_db.db/itv013010_orders1/part-00007-8101ec11-bb45-4666-a9c8-01b563ea6baf-c000.csv\n",
      "36.5 M  109.6 M  /user/itv013010/warehouse/itv013010_cachingdemo_db.db/itv013010_orders1/part-00008-8101ec11-bb45-4666-a9c8-01b563ea6baf-c000.csv\n"
     ]
    }
   ],
   "source": [
    "!hadoop fs -du -h /user/itv013010/warehouse/itv013010_cachingdemo_db.db/itv013010_orders1"
   ]
  },
  {
   "cell_type": "code",
   "execution_count": 18,
   "id": "de4aa9fb",
   "metadata": {},
   "outputs": [
    {
     "name": "stdout",
     "output_type": "stream",
     "text": [
      "11111,2023-05-29,102455,BOOKED\n"
     ]
    }
   ],
   "source": [
    "! hadoop fs -cat /user/itv013010/warehouse/itv013010_cachingdemo_db.db/itv013010_orders1/part-00000-6aace557-58ad-4a8d-a23c-8cccbd8b5d9c-c000.csv"
   ]
  },
  {
   "cell_type": "code",
   "execution_count": 19,
   "id": "0ca095b9",
   "metadata": {},
   "outputs": [
    {
     "name": "stdout",
     "output_type": "stream",
     "text": [
      "+----------------------------+\n",
      "|count(DISTINCT order_status)|\n",
      "+----------------------------+\n",
      "|                          10|\n",
      "+----------------------------+\n",
      "\n"
     ]
    }
   ],
   "source": [
    "spark.sql(\"select count(distinct(order_status)) from itv013010_cachingdemo_db.itv013010_orders1\").show()"
   ]
  },
  {
   "cell_type": "markdown",
   "id": "8ef433db",
   "metadata": {},
   "source": [
    "### How to uncache everything in a single command?"
   ]
  },
  {
   "cell_type": "code",
   "execution_count": 20,
   "id": "b634d4c8",
   "metadata": {},
   "outputs": [
    {
     "data": {
      "text/html": [
       "<table border='1'>\n",
       "<tr><th></th></tr>\n",
       "</table>\n"
      ],
      "text/plain": [
       "++\n",
       "||\n",
       "++\n",
       "++"
      ]
     },
     "execution_count": 20,
     "metadata": {},
     "output_type": "execute_result"
    }
   ],
   "source": [
    "spark.sql(\"clear cache\")"
   ]
  },
  {
   "cell_type": "code",
   "execution_count": null,
   "id": "48e641a9",
   "metadata": {},
   "outputs": [],
   "source": []
  }
 ],
 "metadata": {
  "kernelspec": {
   "display_name": "Pyspark 2",
   "language": "python",
   "name": "pyspark2"
  },
  "language_info": {
   "codemirror_mode": {
    "name": "ipython",
    "version": 3
   },
   "file_extension": ".py",
   "mimetype": "text/x-python",
   "name": "python",
   "nbconvert_exporter": "python",
   "pygments_lexer": "ipython3",
   "version": "3.6.12"
  }
 },
 "nbformat": 4,
 "nbformat_minor": 5
}
