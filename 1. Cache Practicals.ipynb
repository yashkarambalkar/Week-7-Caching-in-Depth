{
 "cells": [
  {
   "cell_type": "code",
   "execution_count": 1,
   "id": "dbadff94",
   "metadata": {},
   "outputs": [],
   "source": [
    "from pyspark.sql import SparkSession\n",
    "import getpass\n",
    "username = getpass.getuser()\n",
    "spark = SparkSession. \\\n",
    "builder. \\\n",
    "config('spark.ui.port','0'). \\\n",
    "config('spark.sql.warehouse.dir',f'/user/{username}/warehouse'). \\\n",
    "enableHiveSupport(). \\\n",
    "master('yarn'). \\\n",
    "getOrCreate()"
   ]
  },
  {
   "cell_type": "code",
   "execution_count": 3,
   "id": "b924f7d8",
   "metadata": {},
   "outputs": [
    {
     "name": "stdout",
     "output_type": "stream",
     "text": [
      "1,2013-07-25 00:00:00.0,11599,CLOSED\n",
      "2,2013-07-25 00:00:00.0,256,PENDING_PAYMENT\n",
      "3,2013-07-25 00:00:00.0,12111,COMPLETE\n",
      "4,2013-07-25 00:00:00.0,8827,CLOSED\n",
      "5,2013-07-25 00:00:00.0,11318,COMPLETE\n",
      "6,2013-07-25 00:00:00.0,7130,COMPLETE\n",
      "7,2013-07-25 00:00:00.0,4530,COMPLETE\n",
      "8,2013-07-25 00:00:00.0,2911,PROCESSING\n",
      "9,2013-07-25 00:00:00.0,5657,PENDING_PAYMENT\n",
      "10,2013-07-25 00:00:00.0,5648,PENDING_PAYMENT\n",
      "11,2013-07-25 00:00:00.0,918,PAYMENT_REVIEW\n",
      "12,2013-07-25 00:00:00.0,1837,CLOSED\n",
      "13,2013-07-25 00:00:00.0,9149,PENDING_PAYMENT\n",
      "14,2013-07-25 00:00:00.0,9842,PROCESSING\n",
      "15,2013-07-25 00:00:00.0,2568,COMPLETE\n",
      "16,2013-07-25 00:00:00.0,7276,PENDING_PAYMENT\n",
      "17,2013-07-25 00:00:00.0,2667,COMPLETE\n",
      "18,2013-07-25 00:00:00.0,1205,CLOSED\n",
      "19,2013-07-25 00:00:00.0,9488,PENDING_PAYMENT\n",
      "20,2013-07-25 00:00:00.0,9198,PROCESSING\n",
      "21,2013-07-25 00:00:00.0,2711,PENDING\n",
      "22,2013-07-25 00:00:00.0,333,COMPLETE\n",
      "23,2013-07-25 00:00:00.0,4367,PENDING_PAYMENT\n",
      "24,2013-07-25 00:00:00.0,11441,CLOSED\n",
      "25,2013-07-25 00:00:00.0,9503,CLOSED\n",
      "26,2013-0"
     ]
    }
   ],
   "source": [
    "!hadoop fs -head /public/trendytech/orders/orders_1gb.csv"
   ]
  },
  {
   "cell_type": "code",
   "execution_count": 2,
   "id": "2a5abbee",
   "metadata": {},
   "outputs": [],
   "source": [
    "orders_schema = 'order_id long, order_date date, customer_id long, order_status string'"
   ]
  },
  {
   "cell_type": "code",
   "execution_count": 3,
   "id": "925a470b",
   "metadata": {},
   "outputs": [],
   "source": [
    "orders_df = spark.read. \\\n",
    "format('csv'). \\\n",
    "schema(orders_schema). \\\n",
    "load('/public/trendytech/orders/orders_1gb.csv')"
   ]
  },
  {
   "cell_type": "code",
   "execution_count": 4,
   "id": "b8e0587f",
   "metadata": {},
   "outputs": [
    {
     "name": "stdout",
     "output_type": "stream",
     "text": [
      "+--------+----------+-----------+---------------+\n",
      "|order_id|order_date|customer_id|   order_status|\n",
      "+--------+----------+-----------+---------------+\n",
      "|       1|2013-07-25|      11599|         CLOSED|\n",
      "|       2|2013-07-25|        256|PENDING_PAYMENT|\n",
      "|       3|2013-07-25|      12111|       COMPLETE|\n",
      "|       4|2013-07-25|       8827|         CLOSED|\n",
      "|       5|2013-07-25|      11318|       COMPLETE|\n",
      "|       6|2013-07-25|       7130|       COMPLETE|\n",
      "|       7|2013-07-25|       4530|       COMPLETE|\n",
      "|       8|2013-07-25|       2911|     PROCESSING|\n",
      "|       9|2013-07-25|       5657|PENDING_PAYMENT|\n",
      "|      10|2013-07-25|       5648|PENDING_PAYMENT|\n",
      "|      11|2013-07-25|        918| PAYMENT_REVIEW|\n",
      "|      12|2013-07-25|       1837|         CLOSED|\n",
      "|      13|2013-07-25|       9149|PENDING_PAYMENT|\n",
      "|      14|2013-07-25|       9842|     PROCESSING|\n",
      "|      15|2013-07-25|       2568|       COMPLETE|\n",
      "|      16|2013-07-25|       7276|PENDING_PAYMENT|\n",
      "|      17|2013-07-25|       2667|       COMPLETE|\n",
      "|      18|2013-07-25|       1205|         CLOSED|\n",
      "|      19|2013-07-25|       9488|PENDING_PAYMENT|\n",
      "|      20|2013-07-25|       9198|     PROCESSING|\n",
      "+--------+----------+-----------+---------------+\n",
      "only showing top 20 rows\n",
      "\n"
     ]
    }
   ],
   "source": [
    "orders_df.show()"
   ]
  },
  {
   "cell_type": "code",
   "execution_count": 5,
   "id": "88642706",
   "metadata": {},
   "outputs": [
    {
     "name": "stdout",
     "output_type": "stream",
     "text": [
      "root\n",
      " |-- order_id: long (nullable = true)\n",
      " |-- order_date: date (nullable = true)\n",
      " |-- customer_id: long (nullable = true)\n",
      " |-- order_status: string (nullable = true)\n",
      "\n"
     ]
    }
   ],
   "source": [
    "orders_df.printSchema()"
   ]
  },
  {
   "cell_type": "code",
   "execution_count": 8,
   "id": "063d7091",
   "metadata": {},
   "outputs": [
    {
     "data": {
      "text/plain": [
       "25831125"
      ]
     },
     "execution_count": 8,
     "metadata": {},
     "output_type": "execute_result"
    }
   ],
   "source": [
    "orders_df.count()"
   ]
  },
  {
   "cell_type": "code",
   "execution_count": 9,
   "id": "6732a738",
   "metadata": {},
   "outputs": [],
   "source": [
    "orders_df_cached = orders_df.cache()"
   ]
  },
  {
   "cell_type": "code",
   "execution_count": 10,
   "id": "0dfc730b",
   "metadata": {},
   "outputs": [
    {
     "name": "stdout",
     "output_type": "stream",
     "text": [
      "+--------+----------+-----------+---------------+\n",
      "|order_id|order_date|customer_id|   order_status|\n",
      "+--------+----------+-----------+---------------+\n",
      "|       1|2013-07-25|      11599|         CLOSED|\n",
      "|       2|2013-07-25|        256|PENDING_PAYMENT|\n",
      "|       3|2013-07-25|      12111|       COMPLETE|\n",
      "|       4|2013-07-25|       8827|         CLOSED|\n",
      "|       5|2013-07-25|      11318|       COMPLETE|\n",
      "|       6|2013-07-25|       7130|       COMPLETE|\n",
      "|       7|2013-07-25|       4530|       COMPLETE|\n",
      "|       8|2013-07-25|       2911|     PROCESSING|\n",
      "|       9|2013-07-25|       5657|PENDING_PAYMENT|\n",
      "|      10|2013-07-25|       5648|PENDING_PAYMENT|\n",
      "|      11|2013-07-25|        918| PAYMENT_REVIEW|\n",
      "|      12|2013-07-25|       1837|         CLOSED|\n",
      "|      13|2013-07-25|       9149|PENDING_PAYMENT|\n",
      "|      14|2013-07-25|       9842|     PROCESSING|\n",
      "|      15|2013-07-25|       2568|       COMPLETE|\n",
      "|      16|2013-07-25|       7276|PENDING_PAYMENT|\n",
      "|      17|2013-07-25|       2667|       COMPLETE|\n",
      "|      18|2013-07-25|       1205|         CLOSED|\n",
      "|      19|2013-07-25|       9488|PENDING_PAYMENT|\n",
      "|      20|2013-07-25|       9198|     PROCESSING|\n",
      "+--------+----------+-----------+---------------+\n",
      "only showing top 20 rows\n",
      "\n"
     ]
    }
   ],
   "source": [
    "orders_df_cached.show()"
   ]
  },
  {
   "cell_type": "code",
   "execution_count": 11,
   "id": "446792ac",
   "metadata": {},
   "outputs": [
    {
     "data": {
      "text/plain": [
       "Row(order_id=1, order_date=datetime.date(2013, 7, 25), customer_id=11599, order_status='CLOSED')"
      ]
     },
     "execution_count": 11,
     "metadata": {},
     "output_type": "execute_result"
    }
   ],
   "source": [
    "orders_df_cached.head()"
   ]
  },
  {
   "cell_type": "code",
   "execution_count": 12,
   "id": "3c7337ea",
   "metadata": {},
   "outputs": [
    {
     "data": {
      "text/plain": [
       "25831125"
      ]
     },
     "execution_count": 12,
     "metadata": {},
     "output_type": "execute_result"
    }
   ],
   "source": [
    "orders_df_cached.count()"
   ]
  },
  {
   "cell_type": "code",
   "execution_count": 13,
   "id": "827137d9",
   "metadata": {},
   "outputs": [
    {
     "data": {
      "text/html": [
       "<table border='1'>\n",
       "<tr><th>order_id</th><th>order_date</th><th>customer_id</th><th>order_status</th></tr>\n",
       "<tr><td>1</td><td>2013-07-25</td><td>11599</td><td>CLOSED</td></tr>\n",
       "<tr><td>2</td><td>2013-07-25</td><td>256</td><td>PENDING_PAYMENT</td></tr>\n",
       "<tr><td>3</td><td>2013-07-25</td><td>12111</td><td>COMPLETE</td></tr>\n",
       "<tr><td>4</td><td>2013-07-25</td><td>8827</td><td>CLOSED</td></tr>\n",
       "<tr><td>5</td><td>2013-07-25</td><td>11318</td><td>COMPLETE</td></tr>\n",
       "<tr><td>6</td><td>2013-07-25</td><td>7130</td><td>COMPLETE</td></tr>\n",
       "<tr><td>7</td><td>2013-07-25</td><td>4530</td><td>COMPLETE</td></tr>\n",
       "<tr><td>8</td><td>2013-07-25</td><td>2911</td><td>PROCESSING</td></tr>\n",
       "<tr><td>9</td><td>2013-07-25</td><td>5657</td><td>PENDING_PAYMENT</td></tr>\n",
       "<tr><td>10</td><td>2013-07-25</td><td>5648</td><td>PENDING_PAYMENT</td></tr>\n",
       "<tr><td>11</td><td>2013-07-25</td><td>918</td><td>PAYMENT_REVIEW</td></tr>\n",
       "<tr><td>12</td><td>2013-07-25</td><td>1837</td><td>CLOSED</td></tr>\n",
       "<tr><td>13</td><td>2013-07-25</td><td>9149</td><td>PENDING_PAYMENT</td></tr>\n",
       "<tr><td>14</td><td>2013-07-25</td><td>9842</td><td>PROCESSING</td></tr>\n",
       "<tr><td>15</td><td>2013-07-25</td><td>2568</td><td>COMPLETE</td></tr>\n",
       "<tr><td>16</td><td>2013-07-25</td><td>7276</td><td>PENDING_PAYMENT</td></tr>\n",
       "<tr><td>17</td><td>2013-07-25</td><td>2667</td><td>COMPLETE</td></tr>\n",
       "<tr><td>18</td><td>2013-07-25</td><td>1205</td><td>CLOSED</td></tr>\n",
       "<tr><td>19</td><td>2013-07-25</td><td>9488</td><td>PENDING_PAYMENT</td></tr>\n",
       "<tr><td>20</td><td>2013-07-25</td><td>9198</td><td>PROCESSING</td></tr>\n",
       "</table>\n",
       "only showing top 20 rows\n"
      ],
      "text/plain": [
       "+--------+----------+-----------+---------------+\n",
       "|order_id|order_date|customer_id|   order_status|\n",
       "+--------+----------+-----------+---------------+\n",
       "|       1|2013-07-25|      11599|         CLOSED|\n",
       "|       2|2013-07-25|        256|PENDING_PAYMENT|\n",
       "|       3|2013-07-25|      12111|       COMPLETE|\n",
       "|       4|2013-07-25|       8827|         CLOSED|\n",
       "|       5|2013-07-25|      11318|       COMPLETE|\n",
       "|       6|2013-07-25|       7130|       COMPLETE|\n",
       "|       7|2013-07-25|       4530|       COMPLETE|\n",
       "|       8|2013-07-25|       2911|     PROCESSING|\n",
       "|       9|2013-07-25|       5657|PENDING_PAYMENT|\n",
       "|      10|2013-07-25|       5648|PENDING_PAYMENT|\n",
       "|      11|2013-07-25|        918| PAYMENT_REVIEW|\n",
       "|      12|2013-07-25|       1837|         CLOSED|\n",
       "|      13|2013-07-25|       9149|PENDING_PAYMENT|\n",
       "|      14|2013-07-25|       9842|     PROCESSING|\n",
       "|      15|2013-07-25|       2568|       COMPLETE|\n",
       "|      16|2013-07-25|       7276|PENDING_PAYMENT|\n",
       "|      17|2013-07-25|       2667|       COMPLETE|\n",
       "|      18|2013-07-25|       1205|         CLOSED|\n",
       "|      19|2013-07-25|       9488|PENDING_PAYMENT|\n",
       "|      20|2013-07-25|       9198|     PROCESSING|\n",
       "+--------+----------+-----------+---------------+\n",
       "only showing top 20 rows"
      ]
     },
     "execution_count": 13,
     "metadata": {},
     "output_type": "execute_result"
    }
   ],
   "source": [
    "orders_df_cached.unpersist()"
   ]
  },
  {
   "cell_type": "code",
   "execution_count": 14,
   "id": "3854ce90",
   "metadata": {},
   "outputs": [],
   "source": [
    "filtered_results = orders_df_cached.filter(\"customer_id == 10000000\")"
   ]
  },
  {
   "cell_type": "code",
   "execution_count": 15,
   "id": "f7eb623d",
   "metadata": {},
   "outputs": [
    {
     "name": "stdout",
     "output_type": "stream",
     "text": [
      "+--------+----------+-----------+------------+\n",
      "|order_id|order_date|customer_id|order_status|\n",
      "+--------+----------+-----------+------------+\n",
      "+--------+----------+-----------+------------+\n",
      "\n"
     ]
    }
   ],
   "source": [
    "filtered_results.show()"
   ]
  },
  {
   "cell_type": "markdown",
   "id": "1c7090f3",
   "metadata": {},
   "source": [
    "## Now running the same command will be Super quick since everything will be cached onto memory"
   ]
  },
  {
   "cell_type": "code",
   "execution_count": 16,
   "id": "8e2a12ba",
   "metadata": {},
   "outputs": [],
   "source": [
    "filtered_results = orders_df_cached.filter(\"customer_id == 10000000\")"
   ]
  },
  {
   "cell_type": "code",
   "execution_count": 17,
   "id": "82d1718d",
   "metadata": {},
   "outputs": [
    {
     "name": "stdout",
     "output_type": "stream",
     "text": [
      "+--------+----------+-----------+------------+\n",
      "|order_id|order_date|customer_id|order_status|\n",
      "+--------+----------+-----------+------------+\n",
      "+--------+----------+-----------+------------+\n",
      "\n"
     ]
    }
   ],
   "source": [
    "filtered_results.show()"
   ]
  },
  {
   "cell_type": "code",
   "execution_count": 18,
   "id": "ce445565",
   "metadata": {},
   "outputs": [
    {
     "data": {
      "text/html": [
       "<table border='1'>\n",
       "<tr><th>order_id</th><th>order_date</th><th>customer_id</th><th>order_status</th></tr>\n",
       "<tr><td>1</td><td>2013-07-25</td><td>11599</td><td>CLOSED</td></tr>\n",
       "<tr><td>2</td><td>2013-07-25</td><td>256</td><td>PENDING_PAYMENT</td></tr>\n",
       "<tr><td>3</td><td>2013-07-25</td><td>12111</td><td>COMPLETE</td></tr>\n",
       "<tr><td>4</td><td>2013-07-25</td><td>8827</td><td>CLOSED</td></tr>\n",
       "<tr><td>5</td><td>2013-07-25</td><td>11318</td><td>COMPLETE</td></tr>\n",
       "<tr><td>6</td><td>2013-07-25</td><td>7130</td><td>COMPLETE</td></tr>\n",
       "<tr><td>7</td><td>2013-07-25</td><td>4530</td><td>COMPLETE</td></tr>\n",
       "<tr><td>8</td><td>2013-07-25</td><td>2911</td><td>PROCESSING</td></tr>\n",
       "<tr><td>9</td><td>2013-07-25</td><td>5657</td><td>PENDING_PAYMENT</td></tr>\n",
       "<tr><td>10</td><td>2013-07-25</td><td>5648</td><td>PENDING_PAYMENT</td></tr>\n",
       "<tr><td>11</td><td>2013-07-25</td><td>918</td><td>PAYMENT_REVIEW</td></tr>\n",
       "<tr><td>12</td><td>2013-07-25</td><td>1837</td><td>CLOSED</td></tr>\n",
       "<tr><td>13</td><td>2013-07-25</td><td>9149</td><td>PENDING_PAYMENT</td></tr>\n",
       "<tr><td>14</td><td>2013-07-25</td><td>9842</td><td>PROCESSING</td></tr>\n",
       "<tr><td>15</td><td>2013-07-25</td><td>2568</td><td>COMPLETE</td></tr>\n",
       "<tr><td>16</td><td>2013-07-25</td><td>7276</td><td>PENDING_PAYMENT</td></tr>\n",
       "<tr><td>17</td><td>2013-07-25</td><td>2667</td><td>COMPLETE</td></tr>\n",
       "<tr><td>18</td><td>2013-07-25</td><td>1205</td><td>CLOSED</td></tr>\n",
       "<tr><td>19</td><td>2013-07-25</td><td>9488</td><td>PENDING_PAYMENT</td></tr>\n",
       "<tr><td>20</td><td>2013-07-25</td><td>9198</td><td>PROCESSING</td></tr>\n",
       "</table>\n",
       "only showing top 20 rows\n"
      ],
      "text/plain": [
       "DataFrame[order_id: bigint, order_date: date, customer_id: bigint, order_status: string]"
      ]
     },
     "execution_count": 18,
     "metadata": {},
     "output_type": "execute_result"
    }
   ],
   "source": [
    "orders_df_cached.unpersist()"
   ]
  },
  {
   "cell_type": "code",
   "execution_count": 19,
   "id": "941ef1ff",
   "metadata": {},
   "outputs": [
    {
     "data": {
      "text/html": [
       "<table border='1'>\n",
       "<tr><th>order_id</th><th>order_status</th></tr>\n",
       "<tr><td>1</td><td>CLOSED</td></tr>\n",
       "<tr><td>4</td><td>CLOSED</td></tr>\n",
       "<tr><td>12</td><td>CLOSED</td></tr>\n",
       "<tr><td>18</td><td>CLOSED</td></tr>\n",
       "<tr><td>24</td><td>CLOSED</td></tr>\n",
       "<tr><td>25</td><td>CLOSED</td></tr>\n",
       "<tr><td>37</td><td>CLOSED</td></tr>\n",
       "<tr><td>51</td><td>CLOSED</td></tr>\n",
       "<tr><td>57</td><td>CLOSED</td></tr>\n",
       "<tr><td>61</td><td>CLOSED</td></tr>\n",
       "<tr><td>62</td><td>CLOSED</td></tr>\n",
       "<tr><td>87</td><td>CLOSED</td></tr>\n",
       "<tr><td>90</td><td>CLOSED</td></tr>\n",
       "<tr><td>101</td><td>CLOSED</td></tr>\n",
       "<tr><td>116</td><td>CLOSED</td></tr>\n",
       "<tr><td>129</td><td>CLOSED</td></tr>\n",
       "<tr><td>133</td><td>CLOSED</td></tr>\n",
       "<tr><td>191</td><td>CLOSED</td></tr>\n",
       "<tr><td>201</td><td>CLOSED</td></tr>\n",
       "<tr><td>211</td><td>CLOSED</td></tr>\n",
       "</table>\n",
       "only showing top 20 rows\n"
      ],
      "text/plain": [
       "+--------+------------+\n",
       "|order_id|order_status|\n",
       "+--------+------------+\n",
       "|       1|      CLOSED|\n",
       "|       4|      CLOSED|\n",
       "|      12|      CLOSED|\n",
       "|      18|      CLOSED|\n",
       "|      24|      CLOSED|\n",
       "|      25|      CLOSED|\n",
       "|      37|      CLOSED|\n",
       "|      51|      CLOSED|\n",
       "|      57|      CLOSED|\n",
       "|      61|      CLOSED|\n",
       "|      62|      CLOSED|\n",
       "|      87|      CLOSED|\n",
       "|      90|      CLOSED|\n",
       "|     101|      CLOSED|\n",
       "|     116|      CLOSED|\n",
       "|     129|      CLOSED|\n",
       "|     133|      CLOSED|\n",
       "|     191|      CLOSED|\n",
       "|     201|      CLOSED|\n",
       "|     211|      CLOSED|\n",
       "+--------+------------+\n",
       "only showing top 20 rows"
      ]
     },
     "execution_count": 19,
     "metadata": {},
     "output_type": "execute_result"
    }
   ],
   "source": [
    "orders_df.select(\"order_id\",\"order_status\").filter(\"order_status == 'CLOSED'\").cache()"
   ]
  },
  {
   "cell_type": "markdown",
   "id": "77eb4bf3",
   "metadata": {},
   "source": [
    "### To cache the entire above statement we add count() [ACTION]"
   ]
  },
  {
   "cell_type": "code",
   "execution_count": 20,
   "id": "d6570734",
   "metadata": {},
   "outputs": [
    {
     "data": {
      "text/plain": [
       "2833500"
      ]
     },
     "execution_count": 20,
     "metadata": {},
     "output_type": "execute_result"
    }
   ],
   "source": [
    "orders_df.select(\"order_id\",\"order_status\").filter(\"order_status == 'CLOSED'\").count()"
   ]
  },
  {
   "cell_type": "code",
   "execution_count": 21,
   "id": "fed39083",
   "metadata": {},
   "outputs": [
    {
     "data": {
      "text/plain": [
       "2833500"
      ]
     },
     "execution_count": 21,
     "metadata": {},
     "output_type": "execute_result"
    }
   ],
   "source": [
    "orders_df.filter(\"order_status == 'CLOSED'\").select(\"order_id\",\"order_status\").count()"
   ]
  },
  {
   "cell_type": "code",
   "execution_count": 22,
   "id": "d2ef7094",
   "metadata": {},
   "outputs": [
    {
     "data": {
      "text/plain": [
       "2833500"
      ]
     },
     "execution_count": 22,
     "metadata": {},
     "output_type": "execute_result"
    }
   ],
   "source": [
    "orders_df.filter(\"order_status == 'CLOSED'\").select(\"order_id\",\"order_status\").count()"
   ]
  },
  {
   "cell_type": "code",
   "execution_count": 6,
   "id": "df8cd209",
   "metadata": {},
   "outputs": [
    {
     "data": {
      "text/html": [
       "<table border='1'>\n",
       "<tr><th>order_status</th><th>order_id</th></tr>\n",
       "<tr><td>PAYMENT_REVIEW</td><td>11</td></tr>\n",
       "<tr><td>CLOSED</td><td>12</td></tr>\n",
       "<tr><td>PENDING_PAYMENT</td><td>13</td></tr>\n",
       "<tr><td>PROCESSING</td><td>14</td></tr>\n",
       "<tr><td>COMPLETE</td><td>15</td></tr>\n",
       "<tr><td>PENDING_PAYMENT</td><td>16</td></tr>\n",
       "<tr><td>COMPLETE</td><td>17</td></tr>\n",
       "<tr><td>CLOSED</td><td>18</td></tr>\n",
       "<tr><td>PENDING_PAYMENT</td><td>19</td></tr>\n",
       "<tr><td>PROCESSING</td><td>20</td></tr>\n",
       "<tr><td>PENDING</td><td>21</td></tr>\n",
       "<tr><td>COMPLETE</td><td>22</td></tr>\n",
       "<tr><td>PENDING_PAYMENT</td><td>23</td></tr>\n",
       "<tr><td>CLOSED</td><td>24</td></tr>\n",
       "<tr><td>CLOSED</td><td>25</td></tr>\n",
       "<tr><td>COMPLETE</td><td>26</td></tr>\n",
       "<tr><td>PENDING_PAYMENT</td><td>27</td></tr>\n",
       "<tr><td>COMPLETE</td><td>28</td></tr>\n",
       "<tr><td>PROCESSING</td><td>29</td></tr>\n",
       "<tr><td>PENDING_PAYMENT</td><td>30</td></tr>\n",
       "</table>\n",
       "only showing top 20 rows\n"
      ],
      "text/plain": [
       "+---------------+--------+\n",
       "|   order_status|order_id|\n",
       "+---------------+--------+\n",
       "| PAYMENT_REVIEW|      11|\n",
       "|         CLOSED|      12|\n",
       "|PENDING_PAYMENT|      13|\n",
       "|     PROCESSING|      14|\n",
       "|       COMPLETE|      15|\n",
       "|PENDING_PAYMENT|      16|\n",
       "|       COMPLETE|      17|\n",
       "|         CLOSED|      18|\n",
       "|PENDING_PAYMENT|      19|\n",
       "|     PROCESSING|      20|\n",
       "|        PENDING|      21|\n",
       "|       COMPLETE|      22|\n",
       "|PENDING_PAYMENT|      23|\n",
       "|         CLOSED|      24|\n",
       "|         CLOSED|      25|\n",
       "|       COMPLETE|      26|\n",
       "|PENDING_PAYMENT|      27|\n",
       "|       COMPLETE|      28|\n",
       "|     PROCESSING|      29|\n",
       "|PENDING_PAYMENT|      30|\n",
       "+---------------+--------+\n",
       "only showing top 20 rows"
      ]
     },
     "execution_count": 6,
     "metadata": {},
     "output_type": "execute_result"
    }
   ],
   "source": [
    "orders_df.select(\"order_status\",\"order_id\").filter(\"order_id > 10\").cache()"
   ]
  },
  {
   "cell_type": "code",
   "execution_count": 7,
   "id": "b3322133",
   "metadata": {},
   "outputs": [
    {
     "data": {
      "text/plain": [
       "25827375"
      ]
     },
     "execution_count": 7,
     "metadata": {},
     "output_type": "execute_result"
    }
   ],
   "source": [
    "orders_df.select(\"order_status\",\"order_id\").filter(\"order_id > 10\").count()"
   ]
  },
  {
   "cell_type": "code",
   "execution_count": 8,
   "id": "0f8d4a19",
   "metadata": {},
   "outputs": [
    {
     "data": {
      "text/plain": [
       "25827375"
      ]
     },
     "execution_count": 8,
     "metadata": {},
     "output_type": "execute_result"
    }
   ],
   "source": [
    "orders_df.select(\"order_status\").filter(\"order_id > 10\").count()"
   ]
  },
  {
   "cell_type": "code",
   "execution_count": 9,
   "id": "410287d1",
   "metadata": {},
   "outputs": [
    {
     "data": {
      "text/html": [
       "<table border='1'>\n",
       "<tr><th>order_id</th><th>order_status</th></tr>\n",
       "<tr><td>11</td><td>PAYMENT_REVIEW</td></tr>\n",
       "<tr><td>12</td><td>CLOSED</td></tr>\n",
       "<tr><td>13</td><td>PENDING_PAYMENT</td></tr>\n",
       "<tr><td>14</td><td>PROCESSING</td></tr>\n",
       "<tr><td>15</td><td>COMPLETE</td></tr>\n",
       "<tr><td>16</td><td>PENDING_PAYMENT</td></tr>\n",
       "<tr><td>17</td><td>COMPLETE</td></tr>\n",
       "<tr><td>18</td><td>CLOSED</td></tr>\n",
       "<tr><td>19</td><td>PENDING_PAYMENT</td></tr>\n",
       "<tr><td>20</td><td>PROCESSING</td></tr>\n",
       "<tr><td>21</td><td>PENDING</td></tr>\n",
       "<tr><td>22</td><td>COMPLETE</td></tr>\n",
       "<tr><td>23</td><td>PENDING_PAYMENT</td></tr>\n",
       "<tr><td>24</td><td>CLOSED</td></tr>\n",
       "<tr><td>25</td><td>CLOSED</td></tr>\n",
       "<tr><td>26</td><td>COMPLETE</td></tr>\n",
       "<tr><td>27</td><td>PENDING_PAYMENT</td></tr>\n",
       "<tr><td>28</td><td>COMPLETE</td></tr>\n",
       "<tr><td>29</td><td>PROCESSING</td></tr>\n",
       "<tr><td>30</td><td>PENDING_PAYMENT</td></tr>\n",
       "</table>\n",
       "only showing top 20 rows\n"
      ],
      "text/plain": [
       "+--------+---------------+\n",
       "|order_id|   order_status|\n",
       "+--------+---------------+\n",
       "|      11| PAYMENT_REVIEW|\n",
       "|      12|         CLOSED|\n",
       "|      13|PENDING_PAYMENT|\n",
       "|      14|     PROCESSING|\n",
       "|      15|       COMPLETE|\n",
       "|      16|PENDING_PAYMENT|\n",
       "|      17|       COMPLETE|\n",
       "|      18|         CLOSED|\n",
       "|      19|PENDING_PAYMENT|\n",
       "|      20|     PROCESSING|\n",
       "|      21|        PENDING|\n",
       "|      22|       COMPLETE|\n",
       "|      23|PENDING_PAYMENT|\n",
       "|      24|         CLOSED|\n",
       "|      25|         CLOSED|\n",
       "|      26|       COMPLETE|\n",
       "|      27|PENDING_PAYMENT|\n",
       "|      28|       COMPLETE|\n",
       "|      29|     PROCESSING|\n",
       "|      30|PENDING_PAYMENT|\n",
       "+--------+---------------+\n",
       "only showing top 20 rows"
      ]
     },
     "execution_count": 9,
     "metadata": {},
     "output_type": "execute_result"
    }
   ],
   "source": [
    "orders_df.select(\"order_id\",\"order_status\").filter(\"order_id > 10\").cache()"
   ]
  },
  {
   "cell_type": "code",
   "execution_count": 10,
   "id": "df6fd156",
   "metadata": {},
   "outputs": [
    {
     "data": {
      "text/plain": [
       "25827375"
      ]
     },
     "execution_count": 10,
     "metadata": {},
     "output_type": "execute_result"
    }
   ],
   "source": [
    "orders_df.select(\"order_id\",\"order_status\").filter(\"order_id > 10\").count()"
   ]
  },
  {
   "cell_type": "code",
   "execution_count": 11,
   "id": "73423ad8",
   "metadata": {},
   "outputs": [
    {
     "data": {
      "text/plain": [
       "25827375"
      ]
     },
     "execution_count": 11,
     "metadata": {},
     "output_type": "execute_result"
    }
   ],
   "source": [
    "orders_df.select(\"order_status\").filter(\"order_id > 10\").count()"
   ]
  },
  {
   "cell_type": "code",
   "execution_count": null,
   "id": "d4c0d702",
   "metadata": {},
   "outputs": [],
   "source": []
  }
 ],
 "metadata": {
  "kernelspec": {
   "display_name": "Pyspark 2",
   "language": "python",
   "name": "pyspark2"
  },
  "language_info": {
   "codemirror_mode": {
    "name": "ipython",
    "version": 3
   },
   "file_extension": ".py",
   "mimetype": "text/x-python",
   "name": "python",
   "nbconvert_exporter": "python",
   "pygments_lexer": "ipython3",
   "version": "3.6.12"
  }
 },
 "nbformat": 4,
 "nbformat_minor": 5
}
