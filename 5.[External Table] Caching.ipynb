{
 "cells": [
  {
   "cell_type": "code",
   "execution_count": 1,
   "id": "6dfc945f",
   "metadata": {},
   "outputs": [],
   "source": [
    "from pyspark.sql import SparkSession\n",
    "import getpass\n",
    "username = getpass.getuser()\n",
    "spark = SparkSession. \\\n",
    "builder. \\\n",
    "config('spark.ui.port','0'). \\\n",
    "config('spark.sql.warehouse.dir',f'/user/{username}/warehouse'). \\\n",
    "enableHiveSupport(). \\\n",
    "master('yarn'). \\\n",
    "getOrCreate()"
   ]
  },
  {
   "cell_type": "code",
   "execution_count": 2,
   "id": "59381f79",
   "metadata": {},
   "outputs": [
    {
     "data": {
      "text/html": [
       "<table border='1'>\n",
       "<tr><th></th></tr>\n",
       "</table>\n"
      ],
      "text/plain": [
       "++\n",
       "||\n",
       "++\n",
       "++"
      ]
     },
     "execution_count": 2,
     "metadata": {},
     "output_type": "execute_result"
    }
   ],
   "source": [
    "spark.sql(\"use itv013010_caching_ext\")"
   ]
  },
  {
   "cell_type": "code",
   "execution_count": 3,
   "id": "c390a243",
   "metadata": {},
   "outputs": [
    {
     "data": {
      "text/html": [
       "<table border='1'>\n",
       "<tr><th></th></tr>\n",
       "</table>\n"
      ],
      "text/plain": [
       "++\n",
       "||\n",
       "++\n",
       "++"
      ]
     },
     "execution_count": 3,
     "metadata": {},
     "output_type": "execute_result"
    }
   ],
   "source": [
    "spark.sql(\"drop table itv013010_orders_ext\")"
   ]
  },
  {
   "cell_type": "code",
   "execution_count": 4,
   "id": "59ec61bd",
   "metadata": {},
   "outputs": [
    {
     "data": {
      "text/html": [
       "<table border='1'>\n",
       "<tr><th></th></tr>\n",
       "</table>\n"
      ],
      "text/plain": [
       "++\n",
       "||\n",
       "++\n",
       "++"
      ]
     },
     "execution_count": 4,
     "metadata": {},
     "output_type": "execute_result"
    }
   ],
   "source": [
    "spark.sql(\"drop database itv013010_caching_ext\")"
   ]
  },
  {
   "cell_type": "markdown",
   "id": "fff98ffb",
   "metadata": {},
   "source": [
    "### Creating Database for External table"
   ]
  },
  {
   "cell_type": "code",
   "execution_count": 5,
   "id": "48a6ed7b",
   "metadata": {},
   "outputs": [
    {
     "data": {
      "text/html": [
       "<table border='1'>\n",
       "<tr><th></th></tr>\n",
       "</table>\n"
      ],
      "text/plain": [
       "++\n",
       "||\n",
       "++\n",
       "++"
      ]
     },
     "execution_count": 5,
     "metadata": {},
     "output_type": "execute_result"
    }
   ],
   "source": [
    "spark.sql(\"create database itv013010_caching_ext\")"
   ]
  },
  {
   "cell_type": "markdown",
   "id": "97876e99",
   "metadata": {},
   "source": [
    "# Creating External table using:\n",
    "### spark.sql(\"create table db_name.tb_name(schema) using csv location'path of csv file'\")"
   ]
  },
  {
   "cell_type": "code",
   "execution_count": 6,
   "id": "b5db9d5b",
   "metadata": {},
   "outputs": [
    {
     "data": {
      "text/html": [
       "<table border='1'>\n",
       "<tr><th></th></tr>\n",
       "</table>\n"
      ],
      "text/plain": [
       "++\n",
       "||\n",
       "++\n",
       "++"
      ]
     },
     "execution_count": 6,
     "metadata": {},
     "output_type": "execute_result"
    }
   ],
   "source": [
    "spark.sql(\"create table itv013010_caching_ext.itv013010_orders_ext(order_id long, order_date string, customer_id long, order_status string)using csv location '/user/itv013010/orders_demo/'\")"
   ]
  },
  {
   "cell_type": "markdown",
   "id": "c4941a7c",
   "metadata": {},
   "source": [
    "### checking if external table has loaded"
   ]
  },
  {
   "cell_type": "code",
   "execution_count": 7,
   "id": "0e83a004",
   "metadata": {},
   "outputs": [
    {
     "name": "stdout",
     "output_type": "stream",
     "text": [
      "+--------+--------------------+-----------+---------------+\n",
      "|order_id|          order_date|customer_id|   order_status|\n",
      "+--------+--------------------+-----------+---------------+\n",
      "|       1|2013-07-25 00:00:...|      11599|         CLOSED|\n",
      "|       2|2013-07-25 00:00:...|        256|PENDING_PAYMENT|\n",
      "|       3|2013-07-25 00:00:...|      12111|       COMPLETE|\n",
      "|       4|2013-07-25 00:00:...|       8827|         CLOSED|\n",
      "|       5|2013-07-25 00:00:...|      11318|       COMPLETE|\n",
      "|       6|2013-07-25 00:00:...|       7130|       COMPLETE|\n",
      "|       7|2013-07-25 00:00:...|       4530|       COMPLETE|\n",
      "|       8|2013-07-25 00:00:...|       2911|     PROCESSING|\n",
      "|       9|2013-07-25 00:00:...|       5657|PENDING_PAYMENT|\n",
      "|      10|2013-07-25 00:00:...|       5648|PENDING_PAYMENT|\n",
      "|      11|2013-07-25 00:00:...|        918| PAYMENT_REVIEW|\n",
      "|      12|2013-07-25 00:00:...|       1837|         CLOSED|\n",
      "|      13|2013-07-25 00:00:...|       9149|PENDING_PAYMENT|\n",
      "|      14|2013-07-25 00:00:...|       9842|     PROCESSING|\n",
      "|      15|2013-07-25 00:00:...|       2568|       COMPLETE|\n",
      "|      16|2013-07-25 00:00:...|       7276|PENDING_PAYMENT|\n",
      "|      17|2013-07-25 00:00:...|       2667|       COMPLETE|\n",
      "|      18|2013-07-25 00:00:...|       1205|         CLOSED|\n",
      "|      19|2013-07-25 00:00:...|       9488|PENDING_PAYMENT|\n",
      "|      20|2013-07-25 00:00:...|       9198|     PROCESSING|\n",
      "+--------+--------------------+-----------+---------------+\n",
      "only showing top 20 rows\n",
      "\n"
     ]
    }
   ],
   "source": [
    "spark.sql(\"select * from itv013010_caching_ext.itv013010_orders_ext\").show()"
   ]
  },
  {
   "cell_type": "markdown",
   "id": "20d772ff",
   "metadata": {},
   "source": [
    "### Performing a count query."
   ]
  },
  {
   "cell_type": "code",
   "execution_count": 8,
   "id": "2843621b",
   "metadata": {},
   "outputs": [
    {
     "name": "stdout",
     "output_type": "stream",
     "text": [
      "+--------+\n",
      "|count(1)|\n",
      "+--------+\n",
      "|   68883|\n",
      "+--------+\n",
      "\n"
     ]
    }
   ],
   "source": [
    "spark.sql(\"select count(*) from itv013010_caching_ext.itv013010_orders_ext\").show()"
   ]
  },
  {
   "cell_type": "markdown",
   "id": "2268ed7f",
   "metadata": {},
   "source": [
    "### Describing a table to see its type i.e EXTERNAL TABLE or NOT"
   ]
  },
  {
   "cell_type": "code",
   "execution_count": 9,
   "id": "a0300edd",
   "metadata": {},
   "outputs": [
    {
     "name": "stdout",
     "output_type": "stream",
     "text": [
      "+--------------------+--------------------+-------+\n",
      "|            col_name|           data_type|comment|\n",
      "+--------------------+--------------------+-------+\n",
      "|            order_id|              bigint|   null|\n",
      "|          order_date|              string|   null|\n",
      "|         customer_id|              bigint|   null|\n",
      "|        order_status|              string|   null|\n",
      "|                    |                    |       |\n",
      "|# Detailed Table ...|                    |       |\n",
      "|            Database|itv013010_caching...|       |\n",
      "|               Table|itv013010_orders_ext|       |\n",
      "|               Owner|           itv013010|       |\n",
      "|        Created Time|Wed Jul 17 03:43:...|       |\n",
      "|         Last Access|Wed Dec 31 19:00:...|       |\n",
      "|          Created By|         Spark 2.4.7|       |\n",
      "|                Type|            EXTERNAL|       |\n",
      "|            Provider|                 csv|       |\n",
      "|    Table Properties|[transient_lastDd...|       |\n",
      "|            Location|hdfs://m01.itvers...|       |\n",
      "|       Serde Library|org.apache.hadoop...|       |\n",
      "|         InputFormat|org.apache.hadoop...|       |\n",
      "|        OutputFormat|org.apache.hadoop...|       |\n",
      "|  Storage Properties|[serialization.fo...|       |\n",
      "+--------------------+--------------------+-------+\n",
      "\n"
     ]
    }
   ],
   "source": [
    "spark.sql(\"describe extended itv013010_caching_ext.itv013010_orders_ext\").show()"
   ]
  },
  {
   "cell_type": "code",
   "execution_count": 10,
   "id": "5cc76533",
   "metadata": {},
   "outputs": [
    {
     "data": {
      "text/html": [
       "<table border='1'>\n",
       "<tr><th></th></tr>\n",
       "</table>\n"
      ],
      "text/plain": [
       "++\n",
       "||\n",
       "++\n",
       "++"
      ]
     },
     "execution_count": 10,
     "metadata": {},
     "output_type": "execute_result"
    }
   ],
   "source": [
    "spark.sql(\"cache table itv013010_caching_ext.itv013010_orders_ext\")"
   ]
  },
  {
   "cell_type": "code",
   "execution_count": 11,
   "id": "9434e855",
   "metadata": {},
   "outputs": [
    {
     "data": {
      "text/html": [
       "<table border='1'>\n",
       "<tr><th></th></tr>\n",
       "</table>\n"
      ],
      "text/plain": [
       "++\n",
       "||\n",
       "++\n",
       "++"
      ]
     },
     "execution_count": 11,
     "metadata": {},
     "output_type": "execute_result"
    }
   ],
   "source": [
    "spark.sql(\"insert into itv013010_caching_ext.itv013010_orders_ext values (111111,'2023-05-29',222222,'BOOKED')\")"
   ]
  },
  {
   "cell_type": "markdown",
   "id": "58d5172b",
   "metadata": {},
   "source": [
    "### Now after adding the new data into the, will it hit the cache or not?\n",
    "### No it wont at first"
   ]
  },
  {
   "cell_type": "code",
   "execution_count": 12,
   "id": "1da486db",
   "metadata": {},
   "outputs": [
    {
     "name": "stdout",
     "output_type": "stream",
     "text": [
      "+--------+\n",
      "|count(1)|\n",
      "+--------+\n",
      "|   68884|\n",
      "+--------+\n",
      "\n"
     ]
    }
   ],
   "source": [
    "spark.sql(\"select count(*) from itv013010_caching_ext.itv013010_orders_ext\").show()"
   ]
  },
  {
   "cell_type": "markdown",
   "id": "de5684f1",
   "metadata": {},
   "source": [
    "### In case if you added say file of 20 records into the path, your table data won't be updated instantly.\n",
    "### To update it we use\n",
    "## 1) spark.catalog.refreshTable(\"db_name.tb_name\")\n",
    "## 2) spark.sql(\"refresh table db_name.tb_name\")"
   ]
  },
  {
   "cell_type": "code",
   "execution_count": 15,
   "id": "35131c67",
   "metadata": {},
   "outputs": [
    {
     "data": {
      "text/html": [
       "<table border='1'>\n",
       "<tr><th></th></tr>\n",
       "</table>\n"
      ],
      "text/plain": [
       "++\n",
       "||\n",
       "++\n",
       "++"
      ]
     },
     "execution_count": 15,
     "metadata": {},
     "output_type": "execute_result"
    }
   ],
   "source": [
    "spark.sql(\"refresh table itv013010_caching_ext.itv013010_orders_ext\")"
   ]
  },
  {
   "cell_type": "code",
   "execution_count": 17,
   "id": "e1d37419",
   "metadata": {},
   "outputs": [
    {
     "name": "stdout",
     "output_type": "stream",
     "text": [
      "+--------+\n",
      "|count(1)|\n",
      "+--------+\n",
      "|   68909|\n",
      "+--------+\n",
      "\n"
     ]
    }
   ],
   "source": [
    "spark.sql(\"select count(*) from itv013010_caching_ext.itv013010_orders_ext\").show()"
   ]
  },
  {
   "cell_type": "code",
   "execution_count": null,
   "id": "f65500c4",
   "metadata": {},
   "outputs": [],
   "source": []
  }
 ],
 "metadata": {
  "kernelspec": {
   "display_name": "Pyspark 2",
   "language": "python",
   "name": "pyspark2"
  },
  "language_info": {
   "codemirror_mode": {
    "name": "ipython",
    "version": 3
   },
   "file_extension": ".py",
   "mimetype": "text/x-python",
   "name": "python",
   "nbconvert_exporter": "python",
   "pygments_lexer": "ipython3",
   "version": "3.6.12"
  }
 },
 "nbformat": 4,
 "nbformat_minor": 5
}
