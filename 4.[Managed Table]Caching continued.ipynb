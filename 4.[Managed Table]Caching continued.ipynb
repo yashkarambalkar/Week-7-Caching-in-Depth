{
 "cells": [
  {
   "cell_type": "code",
   "execution_count": 1,
   "id": "b68680e3",
   "metadata": {},
   "outputs": [],
   "source": [
    "from pyspark.sql import SparkSession\n",
    "import getpass\n",
    "username = getpass.getuser()\n",
    "spark = SparkSession. \\\n",
    "builder. \\\n",
    "config('spark.ui.port','0'). \\\n",
    "config('spark.sql.warehouse.dir',f'/user/{username}/warehouse'). \\\n",
    "enableHiveSupport(). \\\n",
    "master('yarn'). \\\n",
    "getOrCreate()"
   ]
  },
  {
   "cell_type": "code",
   "execution_count": 2,
   "id": "3139e370",
   "metadata": {},
   "outputs": [],
   "source": [
    "orders_schema = 'order_id long, order_date date, customer_id long, order_status string'"
   ]
  },
  {
   "cell_type": "code",
   "execution_count": 3,
   "id": "7b2dd2c4",
   "metadata": {},
   "outputs": [],
   "source": [
    "orders_df = spark.read. \\\n",
    "format('csv'). \\\n",
    "schema(orders_schema). \\\n",
    "load('/public/trendytech/orders/orders_1gb.csv')"
   ]
  },
  {
   "cell_type": "code",
   "execution_count": 4,
   "id": "fa18d408",
   "metadata": {},
   "outputs": [
    {
     "data": {
      "text/html": [
       "<table border='1'>\n",
       "<tr><th></th></tr>\n",
       "</table>\n"
      ],
      "text/plain": [
       "++\n",
       "||\n",
       "++\n",
       "++"
      ]
     },
     "execution_count": 4,
     "metadata": {},
     "output_type": "execute_result"
    }
   ],
   "source": [
    "spark.sql(\"cache table itv013010_cachingdemo_db.itv013010_orders1\")"
   ]
  },
  {
   "cell_type": "markdown",
   "id": "3300447e",
   "metadata": {},
   "source": [
    "# To clear CACHE\n",
    "## 1) spark.sql(\"clear cache\") [Uncache everything]\n",
    "## 2) spark.sql(\"uncache table table_name)[Uncache only this particular table]\n",
    "## 3) spark.catalog.unCacheTable(\"table_name\")\n",
    "## 4) spark.catalog.clearCache()  [Clears whole cache memory]"
   ]
  },
  {
   "cell_type": "code",
   "execution_count": 11,
   "id": "46cdbba1",
   "metadata": {},
   "outputs": [
    {
     "data": {
      "text/plain": [
       "'default'"
      ]
     },
     "execution_count": 11,
     "metadata": {},
     "output_type": "execute_result"
    }
   ],
   "source": [
    "# Spark has in-memory Catalog which is Default\n",
    "spark.catalog.currentDatabase()"
   ]
  },
  {
   "cell_type": "code",
   "execution_count": 12,
   "id": "df6eb51d",
   "metadata": {},
   "outputs": [
    {
     "data": {
      "text/html": [
       "<table border='1'>\n",
       "<tr><th></th></tr>\n",
       "</table>\n"
      ],
      "text/plain": [
       "++\n",
       "||\n",
       "++\n",
       "++"
      ]
     },
     "execution_count": 12,
     "metadata": {},
     "output_type": "execute_result"
    }
   ],
   "source": [
    "spark.sql(\"use itv013010_cachingdemo_db\")"
   ]
  },
  {
   "cell_type": "code",
   "execution_count": 13,
   "id": "43fbc195",
   "metadata": {},
   "outputs": [
    {
     "data": {
      "text/plain": [
       "'itv013010_cachingdemo_db'"
      ]
     },
     "execution_count": 13,
     "metadata": {},
     "output_type": "execute_result"
    }
   ],
   "source": [
    "spark.catalog.currentDatabase()"
   ]
  },
  {
   "cell_type": "markdown",
   "id": "1581c5d8",
   "metadata": {},
   "source": [
    "### To check whether the table is cached or not?"
   ]
  },
  {
   "cell_type": "code",
   "execution_count": 14,
   "id": "c9b26b29",
   "metadata": {},
   "outputs": [
    {
     "data": {
      "text/plain": [
       "True"
      ]
     },
     "execution_count": 14,
     "metadata": {},
     "output_type": "execute_result"
    }
   ],
   "source": [
    "spark.catalog.isCached(\"itv013010_cachingdemo_db.itv013010_orders1\")"
   ]
  },
  {
   "cell_type": "markdown",
   "id": "178a0b5d",
   "metadata": {},
   "source": [
    "### Let's uncache and see if it shows false"
   ]
  },
  {
   "cell_type": "code",
   "execution_count": 15,
   "id": "9743a2cb",
   "metadata": {},
   "outputs": [
    {
     "data": {
      "text/html": [
       "<table border='1'>\n",
       "<tr><th></th></tr>\n",
       "</table>\n"
      ],
      "text/plain": [
       "++\n",
       "||\n",
       "++\n",
       "++"
      ]
     },
     "execution_count": 15,
     "metadata": {},
     "output_type": "execute_result"
    }
   ],
   "source": [
    "spark.sql(\"uncache table itv013010_cachingdemo_db.itv013010_orders1\")"
   ]
  },
  {
   "cell_type": "code",
   "execution_count": 16,
   "id": "b6f4e197",
   "metadata": {},
   "outputs": [
    {
     "data": {
      "text/plain": [
       "False"
      ]
     },
     "execution_count": 16,
     "metadata": {},
     "output_type": "execute_result"
    }
   ],
   "source": [
    "spark.catalog.isCached(\"itv013010_cachingdemo_db.itv013010_orders1\")"
   ]
  },
  {
   "cell_type": "markdown",
   "id": "ef3b1771",
   "metadata": {},
   "source": []
  }
 ],
 "metadata": {
  "kernelspec": {
   "display_name": "Pyspark 2",
   "language": "python",
   "name": "pyspark2"
  },
  "language_info": {
   "codemirror_mode": {
    "name": "ipython",
    "version": 3
   },
   "file_extension": ".py",
   "mimetype": "text/x-python",
   "name": "python",
   "nbconvert_exporter": "python",
   "pygments_lexer": "ipython3",
   "version": "3.6.12"
  }
 },
 "nbformat": 4,
 "nbformat_minor": 5
}
