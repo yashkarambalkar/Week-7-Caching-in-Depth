{
 "cells": [
  {
   "cell_type": "code",
   "execution_count": 1,
   "id": "26f54bf7",
   "metadata": {},
   "outputs": [],
   "source": [
    "from pyspark.sql import SparkSession\n",
    "import getpass\n",
    "username = getpass.getuser()\n",
    "spark = SparkSession. \\\n",
    "builder. \\\n",
    "config('spark.ui.port','0'). \\\n",
    "config('spark.sql.warehouse.dir',f'/user/{username}/warehouse'). \\\n",
    "enableHiveSupport(). \\\n",
    "master('yarn'). \\\n",
    "getOrCreate()"
   ]
  },
  {
   "cell_type": "code",
   "execution_count": 2,
   "id": "6b6e9971",
   "metadata": {},
   "outputs": [
    {
     "name": "stdout",
     "output_type": "stream",
     "text": [
      "1001,2023-05-15,1001,49.99\n",
      "1002,2023-05-16,1002,29.99\n",
      "1003,2023-05-17,1003,39.99\n",
      "1004,2023-05-18,1004,19.99\n",
      "1005,2023-05-19,1005,24.99\n",
      "1001,2023-05-20,1002,29.99\n",
      "1002,2023-05-21,1003,39.99\n",
      "1003,2023-05-22,1004,19.99\n",
      "1004,2023-05-23,1005,24.99\n",
      "1005,2023-05-24,1001,49.99\n",
      "1001,2023-05-25,1003,39.99\n",
      "1002,2023-05-26,1004,19.99\n",
      "1003,2023-05-27,1005,24.99\n",
      "1004,2023-05-28,1001,49.99\n",
      "1005,2023-05-29,1002,29.99\n",
      "1001,2023-05-30,1003,39.99\n",
      "1002,2023-05-31,1004,19.99\n",
      "1003,2023-06-01,1005,24.99\n",
      "1004,2023-06-02,1001,49.99\n",
      "1005,2023-06-03,1002,29.99\n",
      "1001,2023-06-04,1003,39.99\n",
      "1002,2023-06-05,1004,19.99\n",
      "1003,2023-06-06,1005,24.99\n",
      "1004,2023-06-07,1001,49.99\n",
      "1005,2023-06-08,1002,29.99\n",
      "1006,2023-06-01,1001,49.99\n",
      "1007,2023-06-02,1002,29.99\n",
      "1008,2023-06-03,1003,39.99\n",
      "1009,2023-06-04,1004,19.99\n",
      "1010,2023-06-05,1005,24.99\n",
      "1006,2023-06-06,1002,29.99\n",
      "1007,2023-06-07,1003,39.99\n",
      "1008,2023-06-08,1004,19.99\n",
      "1009,2023-06-09,1005,24.99\n",
      "1010,2023-06-10,1001,49.99\n",
      "1006,2023-06-11,1003,39.99\n",
      "1007,2023-06-12,1004,19.99\n",
      "1008,2023-06-13,1005,24.9"
     ]
    }
   ],
   "source": [
    "!hadoop fs -head /public/trendytech/datasets/cust_transf.csv"
   ]
  },
  {
   "cell_type": "code",
   "execution_count": 2,
   "id": "93ae989c",
   "metadata": {},
   "outputs": [],
   "source": [
    "orders_schema = 'cust_id long, purchase_date date, product_id long, amount float'\n",
    "orders_df = spark.read. \\\n",
    "format('csv'). \\\n",
    "schema(orders_schema). \\\n",
    "load('/public/trendytech/datasets/cust_transf.csv')"
   ]
  },
  {
   "cell_type": "code",
   "execution_count": 4,
   "id": "5b2402b4",
   "metadata": {},
   "outputs": [
    {
     "name": "stdout",
     "output_type": "stream",
     "text": [
      "+-------+-------------+----------+------+\n",
      "|cust_id|purchase_date|product_id|amount|\n",
      "+-------+-------------+----------+------+\n",
      "|   1001|   2023-05-15|      1001| 49.99|\n",
      "|   1002|   2023-05-16|      1002| 29.99|\n",
      "|   1003|   2023-05-17|      1003| 39.99|\n",
      "|   1004|   2023-05-18|      1004| 19.99|\n",
      "|   1005|   2023-05-19|      1005| 24.99|\n",
      "|   1001|   2023-05-20|      1002| 29.99|\n",
      "|   1002|   2023-05-21|      1003| 39.99|\n",
      "|   1003|   2023-05-22|      1004| 19.99|\n",
      "|   1004|   2023-05-23|      1005| 24.99|\n",
      "|   1005|   2023-05-24|      1001| 49.99|\n",
      "|   1001|   2023-05-25|      1003| 39.99|\n",
      "|   1002|   2023-05-26|      1004| 19.99|\n",
      "|   1003|   2023-05-27|      1005| 24.99|\n",
      "|   1004|   2023-05-28|      1001| 49.99|\n",
      "|   1005|   2023-05-29|      1002| 29.99|\n",
      "|   1001|   2023-05-30|      1003| 39.99|\n",
      "|   1002|   2023-05-31|      1004| 19.99|\n",
      "|   1003|   2023-06-01|      1005| 24.99|\n",
      "|   1004|   2023-06-02|      1001| 49.99|\n",
      "|   1005|   2023-06-03|      1002| 29.99|\n",
      "+-------+-------------+----------+------+\n",
      "only showing top 20 rows\n",
      "\n"
     ]
    }
   ],
   "source": [
    "orders_df.show()"
   ]
  },
  {
   "cell_type": "markdown",
   "id": "bfb2fc0e",
   "metadata": {},
   "source": [
    "### Q.1) Find top selling products."
   ]
  },
  {
   "cell_type": "code",
   "execution_count": 3,
   "id": "5a00f45f",
   "metadata": {},
   "outputs": [],
   "source": [
    "start_date= \"2023-05-01\"\n",
    "end_date = \"2023-06-08\""
   ]
  },
  {
   "cell_type": "code",
   "execution_count": 4,
   "id": "8521f6a4",
   "metadata": {},
   "outputs": [],
   "source": [
    "filt_df = orders_df.filter((orders_df.purchase_date >= start_date) & (orders_df.purchase_date <= end_date)).cache()"
   ]
  },
  {
   "cell_type": "code",
   "execution_count": 7,
   "id": "16afb948",
   "metadata": {},
   "outputs": [
    {
     "data": {
      "text/plain": [
       "65226530"
      ]
     },
     "execution_count": 7,
     "metadata": {},
     "output_type": "execute_result"
    }
   ],
   "source": [
    "filt_df.count()"
   ]
  },
  {
   "cell_type": "code",
   "execution_count": 8,
   "id": "287ed777",
   "metadata": {},
   "outputs": [],
   "source": [
    "revenue_df = filt_df.groupBy(\"product_id\").sum(\"amount\").withColumnRenamed(\"sum(amount)\", \"revenue\")"
   ]
  },
  {
   "cell_type": "code",
   "execution_count": 9,
   "id": "22b2cd9d",
   "metadata": {},
   "outputs": [
    {
     "name": "stdout",
     "output_type": "stream",
     "text": [
      "+----------+--------------------+\n",
      "|product_id|             revenue|\n",
      "+----------+--------------------+\n",
      "|      1010|   7312.910350799561|\n",
      "|      1002| 4.293836211229706E8|\n",
      "|      1012|    9402.91035079956|\n",
      "|      1009|   6267.909952163696|\n",
      "|      1013|   10447.91035079956|\n",
      "|      1007|   4177.909952163696|\n",
      "|      1011|    8357.91035079956|\n",
      "|      1005|2.7828563865119934E8|\n",
      "|      1001| 5.566826598912048E8|\n",
      "|      1015|   12537.91035079956|\n",
      "|      1014|   11492.91035079956|\n",
      "|      1008|   5222.909952163696|\n",
      "|      1004| 2.862080211229706E8|\n",
      "|      1006|  3132.9099521636963|\n",
      "|      1003| 5.725592484315491E8|\n",
      "+----------+--------------------+\n",
      "\n"
     ]
    }
   ],
   "source": [
    "revenue_df.show()"
   ]
  },
  {
   "cell_type": "code",
   "execution_count": 10,
   "id": "c6810e2b",
   "metadata": {},
   "outputs": [
    {
     "name": "stdout",
     "output_type": "stream",
     "text": [
      "+----------+--------------------+\n",
      "|product_id|             revenue|\n",
      "+----------+--------------------+\n",
      "|      1003| 5.725592484315491E8|\n",
      "|      1001| 5.566826598912048E8|\n",
      "|      1002| 4.293836211229706E8|\n",
      "|      1004| 2.862080211229706E8|\n",
      "|      1005|2.7828563865119934E8|\n",
      "|      1015|   12537.91035079956|\n",
      "|      1014|   11492.91035079956|\n",
      "|      1013|   10447.91035079956|\n",
      "|      1012|    9402.91035079956|\n",
      "|      1011|    8357.91035079956|\n",
      "+----------+--------------------+\n",
      "\n"
     ]
    }
   ],
   "source": [
    "top_products = revenue_df.sort(\"revenue\",ascending = False).limit(10).show()"
   ]
  },
  {
   "cell_type": "markdown",
   "id": "6011cab5",
   "metadata": {},
   "source": [
    "### Q2. Find the top 10 customers."
   ]
  },
  {
   "cell_type": "code",
   "execution_count": 17,
   "id": "632b2c67",
   "metadata": {},
   "outputs": [],
   "source": [
    "filt_cust = filt_df.groupBy(\"cust_id\").sum(\"amount\").withColumnRenamed(\"sum(amount)\", \"cust_amount\")"
   ]
  },
  {
   "cell_type": "code",
   "execution_count": 18,
   "id": "0bc54fb2",
   "metadata": {},
   "outputs": [
    {
     "name": "stdout",
     "output_type": "stream",
     "text": [
      "+-------+--------------------+\n",
      "|cust_id|         cust_amount|\n",
      "+-------+--------------------+\n",
      "|   1010| 3.976240414623642E7|\n",
      "|   1002| 2.067296592137146E8|\n",
      "|   1012|1.1133638841640854E8|\n",
      "|   1009|3.1807159145837784E7|\n",
      "|   1013| 9.542903341640854E7|\n",
      "|   1007| 1.113311634160099E8|\n",
      "|   1011|1.2724374341640854E8|\n",
      "|   1005| 2.624090592137146E8|\n",
      "|   1001| 3.180884683165741E8|\n",
      "|   1015| 3.976762914623642E7|\n",
      "|   1014| 3.181238414623642E7|\n",
      "|   1008|  9.54238084160099E7|\n",
      "|   1004| 3.101342652822876E8|\n",
      "|   1006| 1.272385184160099E8|\n",
      "|   1003| 2.146838592137146E8|\n",
      "+-------+--------------------+\n",
      "\n"
     ]
    }
   ],
   "source": [
    "filt_cust.show()"
   ]
  },
  {
   "cell_type": "code",
   "execution_count": 19,
   "id": "df709d65",
   "metadata": {},
   "outputs": [],
   "source": [
    "top_cust = filt_cust.sort(\"cust_amount\",ascending = False).limit(10)"
   ]
  },
  {
   "cell_type": "code",
   "execution_count": 20,
   "id": "73773b07",
   "metadata": {},
   "outputs": [
    {
     "name": "stdout",
     "output_type": "stream",
     "text": [
      "+-------+--------------------+\n",
      "|cust_id|         cust_amount|\n",
      "+-------+--------------------+\n",
      "|   1001| 3.180884683165741E8|\n",
      "|   1004| 3.101342652822876E8|\n",
      "|   1005| 2.624090592137146E8|\n",
      "|   1003| 2.146838592137146E8|\n",
      "|   1002| 2.067296592137146E8|\n",
      "|   1011|1.2724374341640854E8|\n",
      "|   1006| 1.272385184160099E8|\n",
      "|   1012|1.1133638841640854E8|\n",
      "|   1007| 1.113311634160099E8|\n",
      "|   1013| 9.542903341640854E7|\n",
      "+-------+--------------------+\n",
      "\n"
     ]
    }
   ],
   "source": [
    "top_cust.show()"
   ]
  },
  {
   "cell_type": "code",
   "execution_count": null,
   "id": "ce718c0f",
   "metadata": {},
   "outputs": [],
   "source": []
  }
 ],
 "metadata": {
  "kernelspec": {
   "display_name": "Pyspark 2",
   "language": "python",
   "name": "pyspark2"
  },
  "language_info": {
   "codemirror_mode": {
    "name": "ipython",
    "version": 3
   },
   "file_extension": ".py",
   "mimetype": "text/x-python",
   "name": "python",
   "nbconvert_exporter": "python",
   "pygments_lexer": "ipython3",
   "version": "3.6.12"
  }
 },
 "nbformat": 4,
 "nbformat_minor": 5
}
